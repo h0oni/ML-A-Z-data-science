{
 "cells": [
  {
   "cell_type": "code",
   "execution_count": 22,
   "metadata": {},
   "outputs": [],
   "source": [
    "# Importing the libraries\n",
    "import numpy as np\n",
    "import matplotlib.pyplot as plt\n",
    "import pandas as pd\n",
    "\n",
    "# Importing the dataset\n",
    "dataset = pd.read_csv('Ads_CTR_Optimisation.csv')"
   ]
  },
  {
   "cell_type": "code",
   "execution_count": 23,
   "metadata": {},
   "outputs": [],
   "source": [
    "def find_max(x):\n",
    "    for i,j in enumerate(x):\n",
    "        if j==max(x):\n",
    "            return i\n",
    "def find_min(x):\n",
    "    for i,j in enumerate(x):\n",
    "        if j==min(x):\n",
    "            return i"
   ]
  },
  {
   "cell_type": "code",
   "execution_count": 46,
   "metadata": {},
   "outputs": [],
   "source": [
    "import math\n",
    "N = 10000\n",
    "d = list(range(0,10))\n",
    "# print(d[3])\n",
    "# print(d[5])\n",
    "# d[3] = d[5]\n",
    "# print(d[3])\n",
    "# print(d[5])\n",
    "ads_selected = []\n",
    "numbers_of_selections = [0] * 10\n",
    "sums_of_rewards = [0] * 10\n",
    "total_reward = 0\n",
    "n = 0\n",
    "while n<N:\n",
    "    sums_of_rewards = [0] * 10\n",
    "    for i in range(0,10):\n",
    "        reward = dataset.values[n+i, d[i]]\n",
    "        sums_of_rewards[i] = sums_of_rewards[i] + reward\n",
    "        total_reward = total_reward + reward\n",
    "        d[find_min(sums_of_rewards)] = d[find_max(sums_of_rewards)]\n",
    "    \n",
    "    n = n+10"
   ]
  },
  {
   "cell_type": "code",
   "execution_count": 47,
   "metadata": {},
   "outputs": [
    {
     "data": {
      "text/plain": [
       "1992"
      ]
     },
     "execution_count": 47,
     "metadata": {},
     "output_type": "execute_result"
    }
   ],
   "source": [
    "total_reward"
   ]
  },
  {
   "cell_type": "code",
   "execution_count": 48,
   "metadata": {},
   "outputs": [
    {
     "name": "stdout",
     "output_type": "stream",
     "text": [
      "[4, 4, 4, 4, 4, 4, 4, 7, 8, 9]\n"
     ]
    }
   ],
   "source": [
    "print(d)"
   ]
  },
  {
   "cell_type": "code",
   "execution_count": null,
   "metadata": {},
   "outputs": [],
   "source": []
  }
 ],
 "metadata": {
  "kernelspec": {
   "display_name": "Python 3",
   "language": "python",
   "name": "python3"
  },
  "language_info": {
   "codemirror_mode": {
    "name": "ipython",
    "version": 3
   },
   "file_extension": ".py",
   "mimetype": "text/x-python",
   "name": "python",
   "nbconvert_exporter": "python",
   "pygments_lexer": "ipython3",
   "version": "3.7.4"
  }
 },
 "nbformat": 4,
 "nbformat_minor": 2
}
